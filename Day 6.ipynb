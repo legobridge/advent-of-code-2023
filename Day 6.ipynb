{
 "cells": [
  {
   "cell_type": "code",
   "execution_count": 30,
   "id": "b9e72da3-807a-4a59-931b-67253269313c",
   "metadata": {
    "tags": []
   },
   "outputs": [],
   "source": [
    "inp = \"\"\"Time:        57     72     69     92\n",
    "Distance:   291   1172   1176   2026\"\"\""
   ]
  },
  {
   "cell_type": "code",
   "execution_count": 2,
   "id": "21a2453f-eb07-4817-a6bb-742d78e78445",
   "metadata": {},
   "outputs": [],
   "source": [
    "inp_sample = \"\"\"Time:      7  15   30\n",
    "Distance:  9  40  200\"\"\""
   ]
  },
  {
   "cell_type": "code",
   "execution_count": 22,
   "id": "e3e70947-e691-4460-9709-8496866a0a8d",
   "metadata": {},
   "outputs": [],
   "source": [
    "def solve1(inp):\n",
    "    ans = 1\n",
    "    inp = [x.split()[1:] for x in inp.split('\\n')]\n",
    "    inp = [(int(inp[0][i]), int(inp[1][i])) for i in range(len(inp[0]))]\n",
    "    for t, d in inp:\n",
    "        sols = 0\n",
    "        for i in range(t + 1):\n",
    "            if i * (t - i) > d:\n",
    "                sols += 1\n",
    "        ans *= sols\n",
    "    return ans"
   ]
  },
  {
   "cell_type": "code",
   "execution_count": 24,
   "id": "7d66dc00-5baa-484e-9eb9-ed03ad3092a5",
   "metadata": {},
   "outputs": [
    {
     "data": {
      "text/plain": [
       "160816"
      ]
     },
     "execution_count": 24,
     "metadata": {},
     "output_type": "execute_result"
    }
   ],
   "source": [
    "solve1(inp)"
   ]
  },
  {
   "cell_type": "code",
   "execution_count": 34,
   "id": "dd79a1d4-d273-4bf3-bfb8-96dc0a48a5f6",
   "metadata": {},
   "outputs": [],
   "source": [
    "inp2 = \"\"\"Time:        57726992\n",
    "Distance:   291117211762026\"\"\""
   ]
  },
  {
   "cell_type": "code",
   "execution_count": 43,
   "id": "6fdea546-5ada-484f-976c-9cc4b67c7590",
   "metadata": {},
   "outputs": [],
   "source": [
    "def bins(t, d):\n",
    "    lo, hi = 0, t // 2\n",
    "    while lo < hi:\n",
    "        mid = lo + (hi - lo) // 2\n",
    "        dist = mid * (t - mid)\n",
    "        if dist <= d:\n",
    "            lo = mid + 1\n",
    "        else:\n",
    "            hi = mid\n",
    "    if lo * (t - lo) > d:\n",
    "        return t // 2 - lo + 1\n",
    "    return 0"
   ]
  },
  {
   "cell_type": "code",
   "execution_count": 44,
   "id": "fc7b217e-ee07-4401-94f1-985dc0d45833",
   "metadata": {},
   "outputs": [],
   "source": [
    "def solve2(inp):\n",
    "    ans = 1\n",
    "    inp = [x.split()[1:] for x in inp.split('\\n')]\n",
    "    inp = [(int(inp[0][i]), int(inp[1][i])) for i in range(len(inp[0]))]\n",
    "    for t, d in inp:\n",
    "        sols = 2 * bins(t, d)\n",
    "        if sols > 0 and t % 2 == 0:\n",
    "            sols -= 1\n",
    "        ans *= sols\n",
    "    return ans"
   ]
  },
  {
   "cell_type": "code",
   "execution_count": 42,
   "id": "7f49486b-7c3a-4bce-b490-642dd5646a5a",
   "metadata": {},
   "outputs": [
    {
     "name": "stdout",
     "output_type": "stream",
     "text": [
      "CPU times: user 4.55 s, sys: 43.4 ms, total: 4.59 s\n",
      "Wall time: 4.61 s\n"
     ]
    },
    {
     "data": {
      "text/plain": [
       "46561107"
      ]
     },
     "execution_count": 42,
     "metadata": {},
     "output_type": "execute_result"
    }
   ],
   "source": [
    "%%time\n",
    "solve1(inp2)"
   ]
  },
  {
   "cell_type": "code",
   "execution_count": 47,
   "id": "6157e351-58e0-4c24-aa91-700e01761cc2",
   "metadata": {},
   "outputs": [
    {
     "name": "stdout",
     "output_type": "stream",
     "text": [
      "CPU times: user 46 µs, sys: 1 µs, total: 47 µs\n",
      "Wall time: 54.1 µs\n"
     ]
    },
    {
     "data": {
      "text/plain": [
       "46561107"
      ]
     },
     "execution_count": 47,
     "metadata": {},
     "output_type": "execute_result"
    }
   ],
   "source": [
    "%%time\n",
    "solve2(inp2)"
   ]
  }
 ],
 "metadata": {
  "kernelspec": {
   "display_name": "Python 3 (ipykernel)",
   "language": "python",
   "name": "python3"
  },
  "language_info": {
   "codemirror_mode": {
    "name": "ipython",
    "version": 3
   },
   "file_extension": ".py",
   "mimetype": "text/x-python",
   "name": "python",
   "nbconvert_exporter": "python",
   "pygments_lexer": "ipython3",
   "version": "3.9.12"
  }
 },
 "nbformat": 4,
 "nbformat_minor": 5
}
