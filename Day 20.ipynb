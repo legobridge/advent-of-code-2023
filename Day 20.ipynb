{
 "cells": [
  {
   "cell_type": "code",
   "execution_count": 1,
   "id": "87d18460-348a-4ff1-b21c-4803a71b95ce",
   "metadata": {},
   "outputs": [],
   "source": [
    "import sys\n",
    "sys.setrecursionlimit(300000)"
   ]
  },
  {
   "cell_type": "code",
   "execution_count": 2,
   "id": "21a2453f-eb07-4817-a6bb-742d78e78445",
   "metadata": {
    "tags": []
   },
   "outputs": [],
   "source": [
    "inp_sample = \"\"\"broadcaster -> a, b, c\n",
    "%a -> b\n",
    "%b -> c\n",
    "%c -> inv\n",
    "&inv -> a\"\"\""
   ]
  },
  {
   "cell_type": "code",
   "execution_count": 3,
   "id": "bbfa8301-8861-4735-9431-5cb3a14306c1",
   "metadata": {
    "tags": []
   },
   "outputs": [],
   "source": [
    "inp_sample_2 = \"\"\"broadcaster -> a\n",
    "%a -> inv, con\n",
    "&inv -> b\n",
    "%b -> con\n",
    "&con -> output\"\"\""
   ]
  },
  {
   "cell_type": "code",
   "execution_count": 4,
   "id": "cf6db2f9-afc4-48fd-bc58-9f26b2a2d2a3",
   "metadata": {
    "tags": []
   },
   "outputs": [],
   "source": [
    "inp = \"\"\"%cf -> tz\n",
    "%kr -> xn, gq\n",
    "%cp -> sq, bd\n",
    "broadcaster -> vn, sj, tg, kn\n",
    "%hc -> pm\n",
    "%fd -> xn, mj\n",
    "%qz -> xf\n",
    "%vf -> mc, pm\n",
    "%zm -> rz, pm\n",
    "%cn -> bd, qz\n",
    "%jj -> bp\n",
    "%ks -> ff\n",
    "%nb -> xn, ks\n",
    "%bm -> pm, vf\n",
    "&xn -> kc, jb, cb, tg, ks, tx\n",
    "%lm -> rk\n",
    "%dn -> bd, cn\n",
    "%ft -> dn\n",
    "%pn -> pm, ll\n",
    "%rk -> bp, fs\n",
    "%tz -> bp, gp\n",
    "%mc -> jx\n",
    "%fs -> kx\n",
    "%jf -> bd, fm\n",
    "%rz -> hc, pm\n",
    "%tg -> cb, xn\n",
    "&hf -> rx\n",
    "%vp -> pn\n",
    "&pm -> ll, mc, sj, vd, vp\n",
    "%rn -> kc, xn\n",
    "%vn -> bd, cp\n",
    "&nd -> hf\n",
    "%fm -> bd, gc\n",
    "%ff -> xn, fd\n",
    "&bp -> cf, fh, pc, kn, fs, gn, lm\n",
    "&pc -> hf\n",
    "%mj -> xn\n",
    "%qg -> bd\n",
    "%fh -> lm\n",
    "%kc -> nb\n",
    "%xf -> bd, jf\n",
    "%gc -> qg, bd\n",
    "&bd -> vn, sq, qz, ft, nd\n",
    "%jb -> kr\n",
    "%gp -> bp, rp\n",
    "%gq -> xn, rn\n",
    "%sj -> pm, bm\n",
    "%rp -> bp, jj\n",
    "%sq -> ft\n",
    "%cb -> jb\n",
    "&vd -> hf\n",
    "%gn -> cf\n",
    "%kx -> gn, bp\n",
    "%ll -> zm\n",
    "&tx -> hf\n",
    "%jx -> md, pm\n",
    "%md -> pm, vp\n",
    "%kn -> fh, bp\"\"\""
   ]
  },
  {
   "cell_type": "code",
   "execution_count": 42,
   "id": "e3e70947-e691-4460-9709-8496866a0a8d",
   "metadata": {},
   "outputs": [],
   "source": [
    "def solve1(inp):\n",
    "    modules_list = [s.split(\" -> \") for s in inp.splitlines()]\n",
    "    modules = {}\n",
    "    start = None\n",
    "    for m in modules_list:\n",
    "        targets = m[1].split(\", \")\n",
    "        if m[0] == \"broadcaster\":\n",
    "            start = targets\n",
    "        else:\n",
    "            mtype = m[0][0]\n",
    "            mname = m[0][1:]\n",
    "            modules[mname] = {\"type\": mtype, \"targets\": targets}\n",
    "            if mtype == \"%\":\n",
    "                modules[mname][\"ffon\"] = False\n",
    "            else:\n",
    "                modules[mname][\"input\"] = {}\n",
    "    \n",
    "    for m in modules:\n",
    "        for target in modules[m][\"targets\"]:\n",
    "            if target in modules and modules[target][\"type\"] == \"&\":\n",
    "                modules[target][\"input\"][m] = \"low\"\n",
    "    for target in start:\n",
    "        if target in modules and modules[target][\"type\"] == \"&\":\n",
    "            modules[target][\"input\"][\"broadcaster\"] = \"low\"\n",
    "    # print(modules)\n",
    "    \n",
    "    counts = {\"low\": 1000, \"high\": 0}\n",
    "    \n",
    "    for _ in range(1000):\n",
    "        frontier = [(\"broadcaster\", s, \"low\") for s in start]\n",
    "        while len(frontier) > 0:\n",
    "            next_frontier = []\n",
    "            for source, mod, pulse in frontier:\n",
    "                counts[pulse] += 1\n",
    "                if mod not in modules:\n",
    "                    continue\n",
    "                mtype = modules[mod][\"type\"]\n",
    "                targets = modules[mod][\"targets\"]\n",
    "\n",
    "                if mtype == \"%\":\n",
    "                    if pulse == \"low\":\n",
    "                        ffon = modules[mod][\"ffon\"]\n",
    "                        for target in targets:\n",
    "                            if ffon:\n",
    "                                next_frontier.append((mod, target, \"low\"))\n",
    "                            else:\n",
    "                                next_frontier.append((mod, target, \"high\"))\n",
    "                        modules[mod][\"ffon\"] = not ffon\n",
    "                else:\n",
    "                    modules[mod][\"input\"][source] = pulse\n",
    "                    all_high = True\n",
    "                    for inp_pulse in modules[mod][\"input\"].values():\n",
    "                        if inp_pulse != \"high\":\n",
    "                            all_high = False\n",
    "                            break\n",
    "                    for target in targets:\n",
    "                        if all_high:\n",
    "                            next_frontier.append((mod, target, \"low\"))\n",
    "                        else:\n",
    "                            next_frontier.append((mod, target, \"high\"))\n",
    "            frontier = next_frontier\n",
    "    print(counts[\"low\"])\n",
    "    print(counts[\"high\"])\n",
    "    return counts[\"low\"] * counts[\"high\"]"
   ]
  },
  {
   "cell_type": "code",
   "execution_count": 43,
   "id": "7d66dc00-5baa-484e-9eb9-ed03ad3092a5",
   "metadata": {
    "tags": []
   },
   "outputs": [
    {
     "name": "stdout",
     "output_type": "stream",
     "text": [
      "8000\n",
      "4000\n"
     ]
    },
    {
     "data": {
      "text/plain": [
       "32000000"
      ]
     },
     "execution_count": 43,
     "metadata": {},
     "output_type": "execute_result"
    }
   ],
   "source": [
    "solve1(inp_sample)"
   ]
  },
  {
   "cell_type": "code",
   "execution_count": 44,
   "id": "cefa9f06-6f4a-4936-b98d-4c39d9cb2d98",
   "metadata": {
    "tags": []
   },
   "outputs": [
    {
     "name": "stdout",
     "output_type": "stream",
     "text": [
      "4250\n",
      "2750\n"
     ]
    },
    {
     "data": {
      "text/plain": [
       "11687500"
      ]
     },
     "execution_count": 44,
     "metadata": {},
     "output_type": "execute_result"
    }
   ],
   "source": [
    "solve1(inp_sample_2)"
   ]
  },
  {
   "cell_type": "code",
   "execution_count": 45,
   "id": "c98865da-018b-4372-9f64-1bfc2071a316",
   "metadata": {},
   "outputs": [
    {
     "name": "stdout",
     "output_type": "stream",
     "text": [
      "17730\n",
      "45520\n"
     ]
    },
    {
     "data": {
      "text/plain": [
       "807069600"
      ]
     },
     "execution_count": 45,
     "metadata": {},
     "output_type": "execute_result"
    }
   ],
   "source": [
    "solve1(inp)"
   ]
  },
  {
   "cell_type": "code",
   "execution_count": 73,
   "id": "f1e3995f-8ead-46e9-a2d3-3df51899b5c6",
   "metadata": {},
   "outputs": [],
   "source": [
    "def solve2(inp):\n",
    "    modules_list = [s.split(\" -> \") for s in inp.splitlines()]\n",
    "    modules = {}\n",
    "    start = None\n",
    "    for m in modules_list:\n",
    "        targets = m[1].split(\", \")\n",
    "        if m[0] == \"broadcaster\":\n",
    "            start = targets\n",
    "        else:\n",
    "            mtype = m[0][0]\n",
    "            mname = m[0][1:]\n",
    "            modules[mname] = {\"type\": mtype, \"targets\": targets}\n",
    "            if mtype == \"%\":\n",
    "                modules[mname][\"ffon\"] = False\n",
    "            else:\n",
    "                modules[mname][\"input\"] = {}\n",
    "    \n",
    "    for m in modules:\n",
    "        for target in modules[m][\"targets\"]:\n",
    "            if target in modules and modules[target][\"type\"] == \"&\":\n",
    "                modules[target][\"input\"][m] = \"low\"\n",
    "    for target in start:\n",
    "        if target in modules and modules[target][\"type\"] == \"&\":\n",
    "            modules[target][\"input\"][\"broadcaster\"] = \"low\"\n",
    "    \n",
    "    ans = 1\n",
    "    for bp in range(5000):\n",
    "        frontier = [(\"broadcaster\", s, \"low\") for s in start]\n",
    "        while len(frontier) > 0:\n",
    "            next_frontier = []\n",
    "            for source, mod, pulse in frontier:\n",
    "                if mod in (\"tx\", \"pc\", \"nd\", \"vd\") and pulse == \"low\":\n",
    "                    ans *= (bp + 1)\n",
    "                if mod not in modules:\n",
    "                    continue\n",
    "                mtype = modules[mod][\"type\"]\n",
    "                targets = modules[mod][\"targets\"]\n",
    "\n",
    "                if mtype == \"%\":\n",
    "                    if pulse == \"low\":\n",
    "                        ffon = modules[mod][\"ffon\"]\n",
    "                        for target in targets:\n",
    "                            if ffon:\n",
    "                                next_frontier.append((mod, target, \"low\"))\n",
    "                            else:\n",
    "                                next_frontier.append((mod, target, \"high\"))\n",
    "                        modules[mod][\"ffon\"] = not ffon\n",
    "                else:\n",
    "                    modules[mod][\"input\"][source] = pulse\n",
    "                    all_high = True\n",
    "                    for inp_pulse in modules[mod][\"input\"].values():\n",
    "                        if inp_pulse != \"high\":\n",
    "                            all_high = False\n",
    "                            break\n",
    "                    for target in targets:\n",
    "                        if all_high:\n",
    "                            next_frontier.append((mod, target, \"low\"))\n",
    "                        else:\n",
    "                            next_frontier.append((mod, target, \"high\"))\n",
    "            frontier = next_frontier\n",
    "    return ans"
   ]
  },
  {
   "cell_type": "code",
   "execution_count": 74,
   "id": "f16474d7-2976-48ca-a348-c6b8467fdd1c",
   "metadata": {},
   "outputs": [
    {
     "name": "stdout",
     "output_type": "stream",
     "text": [
      "CPU times: user 134 ms, sys: 2.93 ms, total: 137 ms\n",
      "Wall time: 137 ms\n"
     ]
    },
    {
     "data": {
      "text/plain": [
       "221453937522197"
      ]
     },
     "execution_count": 74,
     "metadata": {},
     "output_type": "execute_result"
    }
   ],
   "source": [
    "%%time\n",
    "solve2(inp)"
   ]
  }
 ],
 "metadata": {
  "kernelspec": {
   "display_name": "Python 3 (ipykernel)",
   "language": "python",
   "name": "python3"
  },
  "language_info": {
   "codemirror_mode": {
    "name": "ipython",
    "version": 3
   },
   "file_extension": ".py",
   "mimetype": "text/x-python",
   "name": "python",
   "nbconvert_exporter": "python",
   "pygments_lexer": "ipython3",
   "version": "3.9.12"
  }
 },
 "nbformat": 4,
 "nbformat_minor": 5
}
