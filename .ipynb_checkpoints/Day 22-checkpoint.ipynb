{
 "cells": [
  {
   "cell_type": "code",
   "execution_count": 3,
   "id": "87d18460-348a-4ff1-b21c-4803a71b95ce",
   "metadata": {},
   "outputs": [],
   "source": [
    "import sys\n",
    "sys.setrecursionlimit(300000)"
   ]
  },
  {
   "cell_type": "code",
   "execution_count": 4,
   "id": "cf6db2f9-afc4-48fd-bc58-9f26b2a2d2a3",
   "metadata": {
    "tags": []
   },
   "outputs": [],
   "source": [
    "inp = \"\"\"\"\"\""
   ]
  },
  {
   "cell_type": "code",
   "execution_count": 5,
   "id": "21a2453f-eb07-4817-a6bb-742d78e78445",
   "metadata": {
    "tags": []
   },
   "outputs": [],
   "source": [
    "inp_sample = \"\"\"px{a<2006:qkq,m>2090:A,rfg}\n",
    "pv{a>1716:R,A}\n",
    "lnx{m>1548:A,A}\n",
    "rfg{s<537:gd,x>2440:R,A}\n",
    "qs{s>3448:A,lnx}\n",
    "qkq{x<1416:A,crn}\n",
    "crn{x>2662:A,R}\n",
    "in{s<1351:px,qqz}\n",
    "qqz{s>2770:qs,m<1801:hdj,R}\n",
    "gd{a>3333:R,R}\n",
    "hdj{m>838:A,pv}\n",
    "\n",
    "{x=787,m=2655,a=1222,s=2876}\n",
    "{x=1679,m=44,a=2067,s=496}\n",
    "{x=2036,m=264,a=79,s=2244}\n",
    "{x=2461,m=1339,a=466,s=291}\n",
    "{x=2127,m=1623,a=2188,s=1013}\"\"\""
   ]
  },
  {
   "cell_type": "code",
   "execution_count": 6,
   "id": "e3e70947-e691-4460-9709-8496866a0a8d",
   "metadata": {},
   "outputs": [],
   "source": [
    "def solve1(inp):\n",
    "    inp_wfs, inp_parts = inp.split('\\n\\n')\n",
    "    inp_wfs = [s[:-1].split(\"{\") for s in inp_wfs.splitlines()]\n",
    "    wfs = {}\n",
    "    for name, rules in inp_wfs:\n",
    "        wfs[name] = rules.split(\",\")\n",
    "    parts = [{d[0]:int(d[2:]) for d in s[1:-1].split(\",\")} for s in inp_parts.splitlines()]\n",
    "    ans = 0\n",
    "    for part in parts:\n",
    "        cur_wf = \"in\"\n",
    "        while cur_wf not in (\"A\", \"R\"):\n",
    "            cur_rules = wfs[cur_wf]\n",
    "            found = False\n",
    "            for rule in cur_rules[:-1]:\n",
    "                condition, target_wf = rule.split(\":\")\n",
    "                if condition[1] == \"<\" and part[condition[0]] < int(condition[2:]) or condition[1] == \">\" and part[condition[0]] > int(condition[2:]):\n",
    "                    cur_wf = target_wf\n",
    "                    found = True\n",
    "                    break\n",
    "            if not found:\n",
    "                cur_wf = cur_rules[-1]\n",
    "        if cur_wf == \"A\":\n",
    "            ans += sum(part.values())\n",
    "    return ans"
   ]
  },
  {
   "cell_type": "code",
   "execution_count": 7,
   "id": "7d66dc00-5baa-484e-9eb9-ed03ad3092a5",
   "metadata": {
    "tags": []
   },
   "outputs": [
    {
     "data": {
      "text/plain": [
       "19114"
      ]
     },
     "execution_count": 7,
     "metadata": {},
     "output_type": "execute_result"
    }
   ],
   "source": [
    "solve1(inp_sample)"
   ]
  },
  {
   "cell_type": "code",
   "execution_count": 8,
   "id": "c98865da-018b-4372-9f64-1bfc2071a316",
   "metadata": {},
   "outputs": [
    {
     "data": {
      "text/plain": [
       "480738"
      ]
     },
     "execution_count": 8,
     "metadata": {},
     "output_type": "execute_result"
    }
   ],
   "source": [
    "solve1(inp)"
   ]
  },
  {
   "cell_type": "code",
   "execution_count": 44,
   "id": "f1e3995f-8ead-46e9-a2d3-3df51899b5c6",
   "metadata": {},
   "outputs": [],
   "source": [
    "def dfs(wfs, intervals, cur_wf):\n",
    "    if cur_wf == \"A\":\n",
    "        ans = 1\n",
    "        for start, end in intervals.values():\n",
    "            if start > end:\n",
    "                ans = 0\n",
    "            else:\n",
    "                ans *= (end - start + 1)\n",
    "        return ans\n",
    "    if cur_wf == \"R\":\n",
    "        return 0\n",
    "    \n",
    "    intervals = intervals.copy()\n",
    "    ans = 0\n",
    "    cur_rules = wfs[cur_wf]\n",
    "    for rule in cur_rules[:-1]:\n",
    "        condition, target_wf = rule.split(\":\")\n",
    "        letter = condition[0]\n",
    "        sym = condition[1]\n",
    "        value = int(condition[2:])\n",
    "        if sym == \"<\":\n",
    "            temp_intervals = intervals.copy()\n",
    "            temp_intervals[letter] = (intervals[letter][0], min(intervals[letter][1], value - 1))\n",
    "            ans += dfs(wfs, temp_intervals, target_wf)\n",
    "            intervals[letter] = (max(intervals[letter][0], value), intervals[letter][1])\n",
    "        else:\n",
    "            temp_intervals = intervals.copy()\n",
    "            temp_intervals[letter] = (max(intervals[letter][0], value + 1), intervals[letter][1])\n",
    "            ans += dfs(wfs, temp_intervals, target_wf)\n",
    "            intervals[letter] = (intervals[letter][0], min(intervals[letter][1], value))\n",
    "            \n",
    "    ans += dfs(wfs, intervals, cur_rules[-1])\n",
    "    return ans \n",
    "\n",
    "def solve2(inp):\n",
    "    inp_wfs, inp_parts = inp.split('\\n\\n')\n",
    "    inp_wfs = [s[:-1].split(\"{\") for s in inp_wfs.splitlines()]\n",
    "    wfs = {}\n",
    "    for name, rules in inp_wfs:\n",
    "        wfs[name] = rules.split(\",\")\n",
    "    \n",
    "    intervals = {key:(1, 4000) for key in list(\"xmas\")}\n",
    "    return dfs(wfs, intervals, \"in\")"
   ]
  },
  {
   "cell_type": "code",
   "execution_count": 45,
   "id": "7f49486b-7c3a-4bce-b490-642dd5646a5a",
   "metadata": {},
   "outputs": [
    {
     "name": "stdout",
     "output_type": "stream",
     "text": [
      "CPU times: user 227 µs, sys: 1e+03 ns, total: 228 µs\n",
      "Wall time: 236 µs\n"
     ]
    },
    {
     "data": {
      "text/plain": [
       "167409079868000"
      ]
     },
     "execution_count": 45,
     "metadata": {},
     "output_type": "execute_result"
    }
   ],
   "source": [
    "%%time\n",
    "solve2(inp_sample)"
   ]
  },
  {
   "cell_type": "code",
   "execution_count": 46,
   "id": "f16474d7-2976-48ca-a348-c6b8467fdd1c",
   "metadata": {},
   "outputs": [
    {
     "name": "stdout",
     "output_type": "stream",
     "text": [
      "CPU times: user 6.69 ms, sys: 504 µs, total: 7.19 ms\n",
      "Wall time: 7.08 ms\n"
     ]
    },
    {
     "data": {
      "text/plain": [
       "131550418841958"
      ]
     },
     "execution_count": 46,
     "metadata": {},
     "output_type": "execute_result"
    }
   ],
   "source": [
    "%%time\n",
    "solve2(inp)"
   ]
  }
 ],
 "metadata": {
  "kernelspec": {
   "display_name": "Python 3 (ipykernel)",
   "language": "python",
   "name": "python3"
  },
  "language_info": {
   "codemirror_mode": {
    "name": "ipython",
    "version": 3
   },
   "file_extension": ".py",
   "mimetype": "text/x-python",
   "name": "python",
   "nbconvert_exporter": "python",
   "pygments_lexer": "ipython3",
   "version": "3.9.12"
  }
 },
 "nbformat": 4,
 "nbformat_minor": 5
}
