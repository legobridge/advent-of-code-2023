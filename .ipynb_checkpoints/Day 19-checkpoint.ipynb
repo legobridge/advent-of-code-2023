{
 "cells": [
  {
   "cell_type": "code",
   "execution_count": 1,
   "id": "87d18460-348a-4ff1-b21c-4803a71b95ce",
   "metadata": {},
   "outputs": [],
   "source": [
    "import sys\n",
    "sys.setrecursionlimit(300000)"
   ]
  },
  {
   "cell_type": "code",
   "execution_count": 2,
   "id": "cf6db2f9-afc4-48fd-bc58-9f26b2a2d2a3",
   "metadata": {
    "tags": []
   },
   "outputs": [],
   "source": [
    "inp = \"\"\"\"\"\""
   ]
  },
  {
   "cell_type": "code",
   "execution_count": 3,
   "id": "21a2453f-eb07-4817-a6bb-742d78e78445",
   "metadata": {
    "tags": []
   },
   "outputs": [],
   "source": [
    "inp_sample = \"\"\"\"\"\""
   ]
  },
  {
   "cell_type": "code",
   "execution_count": 116,
   "id": "e3e70947-e691-4460-9709-8496866a0a8d",
   "metadata": {},
   "outputs": [],
   "source": [
    "from collections import deque\n",
    "\n",
    "def tilt_north(rows):\n",
    "    n, m = len(rows), len(rows[0])\n",
    "    for j in range(m):\n",
    "        free_points = deque()\n",
    "        for i in range(n):\n",
    "            if rows[i][j] == '.':\n",
    "                free_points.append(i)\n",
    "            elif rows[i][j] == '#':\n",
    "                free_points.clear()\n",
    "            elif rows[i][j] == 'O':\n",
    "                if len(free_points) > 0:\n",
    "                    free_i = free_points.popleft()\n",
    "                    rows[i][j], rows[free_i][j] = rows[free_i][j], rows[i][j]\n",
    "                    free_points.append(i)\n",
    "                    \n",
    "def calc_load(rows):\n",
    "    ans = 0\n",
    "    for i, row in enumerate(rows):\n",
    "        cnt = row.count('O')\n",
    "        ans += cnt * (len(rows) - i)\n",
    "    return ans\n",
    "\n",
    "def solve1(inp):\n",
    "    rows = [list(s) for s in inp.splitlines()]\n",
    "    tilt_north(rows)\n",
    "    return calc_load(rows)"
   ]
  },
  {
   "cell_type": "code",
   "execution_count": 117,
   "id": "7d66dc00-5baa-484e-9eb9-ed03ad3092a5",
   "metadata": {
    "tags": []
   },
   "outputs": [
    {
     "data": {
      "text/plain": [
       "136"
      ]
     },
     "execution_count": 117,
     "metadata": {},
     "output_type": "execute_result"
    }
   ],
   "source": [
    "solve1(inp_sample)"
   ]
  },
  {
   "cell_type": "code",
   "execution_count": 118,
   "id": "c98865da-018b-4372-9f64-1bfc2071a316",
   "metadata": {},
   "outputs": [
    {
     "data": {
      "text/plain": [
       "112773"
      ]
     },
     "execution_count": 118,
     "metadata": {},
     "output_type": "execute_result"
    }
   ],
   "source": [
    "solve1(inp)"
   ]
  },
  {
   "cell_type": "code",
   "execution_count": 138,
   "id": "f1e3995f-8ead-46e9-a2d3-3df51899b5c6",
   "metadata": {},
   "outputs": [],
   "source": [
    "def rotate_clockwise(rows):\n",
    "    return [list(rr) for rr in zip(*list(reversed(rows)))]\n",
    "\n",
    "def cycle_once(rows):\n",
    "    for i in range(4):\n",
    "        tilt_north(rows)\n",
    "        rows = rotate_clockwise(rows)\n",
    "    return rows\n",
    "\n",
    "def solve2(inp):\n",
    "    rows = [list(s) for s in inp.splitlines()]\n",
    "    states_seen = {}\n",
    "    for i in range(1000000000):\n",
    "        rows = cycle_once(rows)\n",
    "        state = \"\".join([\"\".join(row) for row in rows])\n",
    "        if state in states_seen:\n",
    "            cycle_start = states_seen[state]\n",
    "            cycle_length = i - cycle_start\n",
    "            more_cycles_needed = (1000000000 - 1 - cycle_start) % cycle_length\n",
    "            for cycle_cnt in range(more_cycles_needed):\n",
    "                rows = cycle_once(rows)\n",
    "            return calc_load(rows)\n",
    "        states_seen[state] = i\n",
    "    return None"
   ]
  },
  {
   "cell_type": "code",
   "execution_count": 139,
   "id": "7f49486b-7c3a-4bce-b490-642dd5646a5a",
   "metadata": {},
   "outputs": [
    {
     "name": "stdout",
     "output_type": "stream",
     "text": [
      "CPU times: user 2.13 ms, sys: 1 µs, total: 2.13 ms\n",
      "Wall time: 2.13 ms\n"
     ]
    },
    {
     "data": {
      "text/plain": [
       "64"
      ]
     },
     "execution_count": 139,
     "metadata": {},
     "output_type": "execute_result"
    }
   ],
   "source": [
    "%%time\n",
    "solve2(inp_sample)"
   ]
  },
  {
   "cell_type": "code",
   "execution_count": 140,
   "id": "f16474d7-2976-48ca-a348-c6b8467fdd1c",
   "metadata": {},
   "outputs": [
    {
     "name": "stdout",
     "output_type": "stream",
     "text": [
      "CPU times: user 771 ms, sys: 5.84 ms, total: 776 ms\n",
      "Wall time: 777 ms\n"
     ]
    },
    {
     "data": {
      "text/plain": [
       "98894"
      ]
     },
     "execution_count": 140,
     "metadata": {},
     "output_type": "execute_result"
    }
   ],
   "source": [
    "%%time\n",
    "solve2(inp)"
   ]
  }
 ],
 "metadata": {
  "kernelspec": {
   "display_name": "Python 3 (ipykernel)",
   "language": "python",
   "name": "python3"
  },
  "language_info": {
   "codemirror_mode": {
    "name": "ipython",
    "version": 3
   },
   "file_extension": ".py",
   "mimetype": "text/x-python",
   "name": "python",
   "nbconvert_exporter": "python",
   "pygments_lexer": "ipython3",
   "version": "3.9.12"
  }
 },
 "nbformat": 4,
 "nbformat_minor": 5
}
