{
 "cells": [
  {
   "cell_type": "code",
   "execution_count": null,
   "id": "cf6db2f9-afc4-48fd-bc58-9f26b2a2d2a3",
   "metadata": {},
   "outputs": [],
   "source": [
    "inp = \"\"\"\"\"\""
   ]
  },
  {
   "cell_type": "code",
   "execution_count": 4,
   "id": "21a2453f-eb07-4817-a6bb-742d78e78445",
   "metadata": {},
   "outputs": [],
   "source": [
    "inp_sample = \"\"\"Game 1: 3 blue, 4 red; 1 red, 2 green, 6 blue; 2 green\n",
    "Game 2: 1 blue, 2 green; 3 green, 4 blue, 1 red; 1 green, 1 blue\n",
    "Game 3: 8 green, 6 blue, 20 red; 5 blue, 4 red, 13 green; 5 green, 1 red\n",
    "Game 4: 1 green, 3 red, 6 blue; 3 green, 6 red; 3 green, 15 blue, 14 red\n",
    "Game 5: 6 red, 1 blue, 3 green; 2 blue, 1 red, 2 green\"\"\""
   ]
  },
  {
   "cell_type": "code",
   "execution_count": 11,
   "id": "5126ca48-788a-4af6-9ee9-841fcd644461",
   "metadata": {},
   "outputs": [],
   "source": [
    "limit = {\"red\": 12, \"green\": 13, \"blue\": 14}"
   ]
  },
  {
   "cell_type": "code",
   "execution_count": 28,
   "id": "e3e70947-e691-4460-9709-8496866a0a8d",
   "metadata": {},
   "outputs": [],
   "source": [
    "def solve1(inp):\n",
    "    ans = 0\n",
    "    for line in inp.split('\\n'):\n",
    "        gid, games = line.split(\": \")\n",
    "        gid = int(gid.split(\" \")[1])\n",
    "        games = [game.split(', ') for game in games.split(\"; \")]\n",
    "        nope = False\n",
    "        for game in games:\n",
    "            for draw in game:\n",
    "                num, col = draw.split(\" \")\n",
    "                num = int(num)\n",
    "                if num > limit[col]:\n",
    "                    nope = True\n",
    "        # print(nope)\n",
    "        if not nope:\n",
    "            ans += gid\n",
    "    return ans"
   ]
  },
  {
   "cell_type": "code",
   "execution_count": 31,
   "id": "7d66dc00-5baa-484e-9eb9-ed03ad3092a5",
   "metadata": {},
   "outputs": [
    {
     "data": {
      "text/plain": [
       "2006"
      ]
     },
     "execution_count": 31,
     "metadata": {},
     "output_type": "execute_result"
    }
   ],
   "source": [
    "solve1(inp)"
   ]
  },
  {
   "cell_type": "code",
   "execution_count": 43,
   "id": "dd79a1d4-d273-4bf3-bfb8-96dc0a48a5f6",
   "metadata": {},
   "outputs": [],
   "source": [
    "from collections import defaultdict"
   ]
  },
  {
   "cell_type": "code",
   "execution_count": 47,
   "id": "fc7b217e-ee07-4401-94f1-985dc0d45833",
   "metadata": {},
   "outputs": [],
   "source": [
    "def solve2(inp):\n",
    "    ans = 0\n",
    "    for line in inp.split('\\n'):\n",
    "        gid, games = line.split(\": \")\n",
    "        gid = int(gid.split(\" \")[1])\n",
    "        games = [game.split(', ') for game in games.split(\"; \")]\n",
    "        mins = defaultdict(int)\n",
    "        for game in games:\n",
    "            for draw in game:\n",
    "                num, col = draw.split(\" \")\n",
    "                num = int(num)\n",
    "                mins[col] = max(mins[col], num)\n",
    "        ans += mins[\"red\"] * mins[\"blue\"] * mins[\"green\"]\n",
    "    return ans"
   ]
  },
  {
   "cell_type": "code",
   "execution_count": 48,
   "id": "7f49486b-7c3a-4bce-b490-642dd5646a5a",
   "metadata": {},
   "outputs": [
    {
     "data": {
      "text/plain": [
       "84911"
      ]
     },
     "execution_count": 48,
     "metadata": {},
     "output_type": "execute_result"
    }
   ],
   "source": [
    "solve2(inp)"
   ]
  },
  {
   "cell_type": "code",
   "execution_count": null,
   "id": "42a92217-72e3-422b-874f-f579b56161fc",
   "metadata": {},
   "outputs": [],
   "source": []
  }
 ],
 "metadata": {
  "kernelspec": {
   "display_name": "Python 3 (ipykernel)",
   "language": "python",
   "name": "python3"
  },
  "language_info": {
   "codemirror_mode": {
    "name": "ipython",
    "version": 3
   },
   "file_extension": ".py",
   "mimetype": "text/x-python",
   "name": "python",
   "nbconvert_exporter": "python",
   "pygments_lexer": "ipython3",
   "version": "3.9.12"
  }
 },
 "nbformat": 4,
 "nbformat_minor": 5
}
